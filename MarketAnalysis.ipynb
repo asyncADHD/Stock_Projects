{
 "cells": [
  {
   "cell_type": "code",
   "execution_count": 211,
   "metadata": {},
   "outputs": [],
   "source": [
    "import yfinance as yf\n",
    "import pandas as pd\n",
    "import numpy as np\n",
    "from datetime import date\n"
   ]
  },
  {
   "cell_type": "code",
   "execution_count": 212,
   "metadata": {},
   "outputs": [
    {
     "name": "stdout",
     "output_type": "stream",
     "text": [
      "2022-07-07 2021-07-07\n"
     ]
    }
   ],
   "source": [
    "date_today = date.today() - pd.DateOffset(days=1)\n",
    "date_minus_1 = date_today - pd.DateOffset(days=365)\n",
    "date_minus_1 = date_minus_1.strftime(\"%Y-%m-%d\")\n",
    "date_today = date_today.strftime(\"%Y-%m-%d\")\n",
    "\n",
    "print (date_today, date_minus_1)"
   ]
  },
  {
   "cell_type": "markdown",
   "metadata": {},
   "source": [
    "## Get Historical Data\n"
   ]
  },
  {
   "cell_type": "code",
   "execution_count": 213,
   "metadata": {},
   "outputs": [
    {
     "name": "stdout",
     "output_type": "stream",
     "text": [
      "[*********************100%***********************]  1 of 1 completed\n",
      "0.29882512228431685\n"
     ]
    }
   ],
   "source": [
    "Data = yf.download(\"AAPL\", start=date_minus_1, end=date_today)\n",
    "Data = pd.DataFrame(Data)\n",
    "Data.drop([\"Open\", \"High\", \"Low\", \"Close\",\"Volume\"], axis=1, inplace=True)\n",
    "Data[\"PTC\"] = Data[\"Adj Close\"].pct_change()\n",
    "Data_PTC = Data[\"PTC\"].iloc[1:]\n",
    "\n",
    "\n",
    "vol = Data_PTC\n",
    "# vol = vol.to_numpy()\n",
    "vol = np.std(vol, ddof=1)\n",
    "print (vol * np.sqrt(len(Data_PTC)))\n",
    "\n",
    "\n",
    "\n",
    "\n",
    "\n"
   ]
  },
  {
   "cell_type": "markdown",
   "metadata": {},
   "source": [
    "$$\\sqrt{ \\frac{1}{n-1} \\sum_{i=1}^n(x_i - \\bar{x})^2}$$"
   ]
  },
  {
   "cell_type": "code",
   "execution_count": null,
   "metadata": {},
   "outputs": [],
   "source": []
  }
 ],
 "metadata": {
  "language_info": {
   "name": "python"
  },
  "orig_nbformat": 4
 },
 "nbformat": 4,
 "nbformat_minor": 2
}
